{
 "cells": [
  {
   "cell_type": "markdown",
   "metadata": {},
   "source": [
    "<center>\n",
    "    <img src=\"https://cf-courses-data.s3.us.cloud-object-storage.appdomain.cloud/IBMDeveloperSkillsNetwork-DS0105EN-SkillsNetwork/labs/Module2/images/SN_web_lightmode.png\" width=\"300\" alt=\"cognitiveclass.ai logo\">\n",
    "</center>\n"
   ]
  },
  {
   "cell_type": "markdown",
   "metadata": {},
   "source": [
    "#### Add your code below following the instructions given in the course\n"
   ]
  },
  {
   "cell_type": "code",
   "execution_count": 4,
   "metadata": {
    "tags": []
   },
   "outputs": [],
   "source": [
    "# First Notebook of Maddy"
   ]
  },
  {
   "cell_type": "code",
   "execution_count": 8,
   "metadata": {
    "tags": []
   },
   "outputs": [],
   "source": [
    "##Welcome to this notebook! In this document, we will complete coursera assignment"
   ]
  },
  {
   "cell_type": "code",
   "execution_count": 12,
   "metadata": {
    "tags": []
   },
   "outputs": [],
   "source": [
    "### Data Science Languages : Python, R, SQL, SAS, Julia"
   ]
  },
  {
   "cell_type": "code",
   "execution_count": 18,
   "metadata": {
    "tags": []
   },
   "outputs": [],
   "source": [
    "### Data Science Libraries\n",
    "\n",
    "####In data science, several libraries are widely used to perform various tasks. Here are some of the key libraries:\n",
    "\n",
    "##### **Python Libraries**:\n",
    "#####  - **NumPy**: Provides support for large, multi-dimensional arrays and matrices, along with a collection of mathematical functions.\n",
    "#####  - **pandas**: Offers data structures and data analysis tools for Python, including data frames.\n",
    "#####  - **scikit-learn**: Provides simple and efficient tools for data mining and data analysis, including machine learning algorithms.\n",
    "#####  - **Matplotlib**: A plotting library for creating static, animated, and interactive visualizations in Python.\n",
    "#####  - **Seaborn**: Built on top of Matplotlib, it provides a high-level interface for drawing attractive and informative statistical graphics.\n",
    "#####  - **TensorFlow**: An open-source library for numerical computation and machine learning, particularly deep learning.\n",
    "#####  - **Keras**: A high-level neural networks API, written in Python and capable of running on top of TensorFlow.\n",
    "\n",
    "#####- **R Libraries**:\n",
    "#####  - **ggplot2**: A system for declaratively creating graphics based on The Grammar of Graphics.\n",
    "#####  - **dplyr**: Provides a set of tools for efficiently manipulating datasets in R.\n",
    "#####  - **tidyr**: Helps in tidying up data, making it easier to work with.\n",
    "#####  - **caret**: Provides a unified interface for training and evaluating machine learning models.\n",
    "#####  - **shiny**: Allows for building interactive web applications directly from R.\n",
    "\n",
    "####These libraries are fundamental tools in data science and help streamline the data analysis and machine learning processes.\n"
   ]
  },
  {
   "cell_type": "code",
   "execution_count": 15,
   "metadata": {
    "tags": []
   },
   "outputs": [],
   "source": [
    "### Data Science Tools\n",
    "\n",
    "####Below is a table listing some popular data science tools, categorized by their primary use:\n",
    "\n",
    "#####| **Tool**       | **Category**       | **Description**                                          |\n",
    "#####|----------------|---------------------|----------------------------------------------------------|\n",
    "#####| **Python**     | Programming Language | Versatile language with extensive libraries for data analysis and machine learning. |\n",
    "#####| **R**          | Programming Language | Specialized in statistical analysis and data visualization. |\n",
    "#####| **Jupyter Notebook** | Development Environment | Interactive environment for running code and documenting analysis. |\n",
    "#####| **SQL**        | Query Language      | Used for managing and querying relational databases.     |\n",
    "#####| **Tableau**    | Visualization Tool  | Provides interactive and shareable dashboards.           |\n",
    "#####| **Power BI**   | Visualization Tool  | Microsoft tool for business analytics and data visualization. |\n",
    "#####| **Excel**      | Spreadsheet Software | Widely used for data manipulation, analysis, and visualization. |\n",
    "#####| **Hadoop**     | Big Data Framework  | Framework for processing and storing large data sets in a distributed computing environment. |\n",
    "#####| **Spark**      | Big Data Framework  | Fast and general-purpose cluster-computing system.       |\n",
    "#####| **TensorFlow** | Machine Learning Library | Open-source library for numerical computation and machine learning. |\n",
    "#####| **Keras**      | Machine Learning Library | High-level neural networks API running on top of TensorFlow. |\n",
    "\n",
    "####This table provides an overview of some of the key tools used in the field of data science, each serving different purposes and catering to various a\n"
   ]
  },
  {
   "cell_type": "code",
   "execution_count": 19,
   "metadata": {
    "tags": []
   },
   "outputs": [
    {
     "data": {
      "text/plain": [
       "3"
      ]
     },
     "execution_count": 19,
     "metadata": {},
     "output_type": "execute_result"
    }
   ],
   "source": [
    "1+2"
   ]
  },
  {
   "cell_type": "code",
   "execution_count": 20,
   "metadata": {
    "tags": []
   },
   "outputs": [
    {
     "data": {
      "text/plain": [
       "7"
      ]
     },
     "execution_count": 20,
     "metadata": {},
     "output_type": "execute_result"
    }
   ],
   "source": [
    "1+2*3"
   ]
  },
  {
   "cell_type": "code",
   "execution_count": 21,
   "metadata": {
    "tags": []
   },
   "outputs": [],
   "source": [
    "a = 1\n",
    "b = 2\n",
    "c = a+b"
   ]
  },
  {
   "cell_type": "code",
   "execution_count": 22,
   "metadata": {
    "tags": []
   },
   "outputs": [
    {
     "name": "stdout",
     "output_type": "stream",
     "text": [
      "3\n"
     ]
    }
   ],
   "source": [
    "print(c)"
   ]
  },
  {
   "cell_type": "code",
   "execution_count": 23,
   "metadata": {
    "tags": []
   },
   "outputs": [
    {
     "name": "stdout",
     "output_type": "stream",
     "text": [
      "7\n"
     ]
    }
   ],
   "source": [
    "d = a+b*c\n",
    "print(d)"
   ]
  },
  {
   "cell_type": "code",
   "execution_count": 26,
   "metadata": {
    "tags": []
   },
   "outputs": [
    {
     "name": "stdout",
     "output_type": "stream",
     "text": [
      "1.3333333333333333\n"
     ]
    }
   ],
   "source": [
    "min = 4800\n",
    "hours = 4800 / 3600\n",
    "print(hours)"
   ]
  },
  {
   "cell_type": "code",
   "execution_count": 27,
   "metadata": {
    "tags": []
   },
   "outputs": [],
   "source": [
    "##Objective : to learn Jupyterlab"
   ]
  },
  {
   "cell_type": "code",
   "execution_count": 29,
   "metadata": {
    "tags": []
   },
   "outputs": [],
   "source": [
    "###Author : **Maddy**"
   ]
  },
  {
   "cell_type": "code",
   "execution_count": null,
   "metadata": {},
   "outputs": [],
   "source": []
  }
 ],
 "metadata": {
  "kernelspec": {
   "display_name": "Python",
   "language": "python",
   "name": "conda-env-python-py"
  },
  "language_info": {
   "codemirror_mode": {
    "name": "ipython",
    "version": 3
   },
   "file_extension": ".py",
   "mimetype": "text/x-python",
   "name": "python",
   "nbconvert_exporter": "python",
   "pygments_lexer": "ipython3",
   "version": "3.7.12"
  }
 },
 "nbformat": 4,
 "nbformat_minor": 4
}
